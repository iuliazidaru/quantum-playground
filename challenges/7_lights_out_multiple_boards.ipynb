{
 "cells": [
  {
   "cell_type": "markdown",
   "metadata": {},
   "source": [
    "# Clearing the room with a single switch\n",
    "*The room Dr. Ryoko needs to cross has a floor made of 3 x 3 tiles. Each tile represents a single qubit.<br/>\n",
    "Some of the qubits change from the ground state to the excited state and vice versa. <br/> You notice that there is a pattern - the floor can only be in either one of the four patterns as shown in each of the examples below. <br/>\n",
    "To help Dr. Ryoko cross the room safely, you need to find out which board can be cleared with a single switch operation. <br/>*"
   ]
  },
  {
   "cell_type": "markdown",
   "metadata": {},
   "source": [
    "# Week2-B: Four-Lights Out\n",
    "In this problem, we are dealing with multiple binary data at the same time. \n",
    "We have to determine if each of the given four Lights Out boards are solvable under the given constraints, so let's devise a quantum circuit to solve them all at the same time.\n",
    "\n",
    "As an example, let's consider how to find a board that can be cleared with just a single switch operation from the 4 boards given below. The initial state of the 4 boards is given in the following two-dimensional array, where \"0\" and \"1\" represent \"off\" and \"on\" respectively similar to the previous learning problem:\n",
    "\n",
    "lightsout4_ex=\\[\\[Board 0\\],\\[Board 1\\],\\[Board 2\\],\\[Board 3\\]\\]"
   ]
  },
  {
   "cell_type": "markdown",
   "metadata": {},
   "source": [
    "## Answer Strategy\n",
    "If only one board is given, this is a decision problem.\n",
    "Using the algorithm from the first Lights Out puzzle (2A), you can solve this problem by counting the \"1\"s in the output.\n",
    " \n",
    "If we are given multiple boards, there will be several approaches.\n",
    "1. Iterate the same \"one board algorithm\" for each board.\n",
    "2. Hold information for multiple boards at the same time and solve the problems in a single run (execute the algorithm once). \n",
    "- For the rest of this document, we discuss how to use the latter approach to solve this type of problem.\n",
    "\n",
    "First, how do we keep data for all the boards at the same time?\n",
    "1. Naive data structures:　　9 Qubits/board * 4 boards > 32 qubits (Upper limit of ibm_qasm_simulator).\n",
    "2. Prepare the  superposition state:   $\\vert Board 0\\rangle + \\vert Board 1\\rangle + \\vert Board 2\\rangle + \\vert Board 3\\rangle$.\n",
    "    - The circuit configuration used for state generation is non-trivial.\n",
    "3. *qRAM* is known as one solution. \n",
    "    - **Pros**: Intuitive implementation. \n",
    "    - **Cons**: Computationally expensive. \n",
    "\n",
    "Of course you can devise and adopt other smart ways to do this.\n",
    "\n",
    "Here, we will focus on *qRAM* and describe its configuration and implementation."
   ]
  },
  {
   "cell_type": "code",
   "execution_count": 2,
   "metadata": {},
   "outputs": [
    {
     "name": "stderr",
     "output_type": "stream",
     "text": [
      "/Users/iuliazidaru/Documents/workspace/quantum-playground/venv/lib/python3.8/site-packages/qiskit/providers/ibmq/ibmqfactory.py:192: UserWarning: Timestamps in IBMQ backend properties, jobs, and job results are all now in local time instead of UTC.\n",
      "  warnings.warn('Timestamps in IBMQ backend properties, jobs, and job results '\n"
     ]
    }
   ],
   "source": [
    "from qiskit import *\n",
    "from qiskit import QuantumRegister, ClassicalRegister, QuantumCircuit\n",
    "from qiskit import IBMQ, Aer, execute\n",
    "provider = IBMQ.load_account()"
   ]
  },
  {
   "cell_type": "markdown",
   "metadata": {},
   "source": [
    "## qRAM: Quantum Random Access Memory\n",
    "\n",
    "In classical computers, RAM (Random Access Memory) is a type of volatile memory that has memory addresses $j$ and stores binary data corresponding to each address $D_j$.\n",
    "\n",
    "In the case of [qRAM](https://arxiv.org/abs/0708.1879) in a quantum computer, address qubits $a$ have the $N$-addresses as superposition and the corresponding binary data is stored in data qubits $d$ as a state vector.\n",
    "\\\\[\n",
    "\\sum_{j}\\frac{1}{\\sqrt{N}}\\vert j \\rangle_{a}\\vert 0 \\rangle_{d}\\xrightarrow{qRAM}\\sum_{j}\\frac{1}{\\sqrt{N}}\\vert j \\rangle_{a}\\vert D_{j} \\rangle_{d}\n",
    "\\\\]　　\n",
    "We call the right-hand side state \"qRAM\" and the corresponding gate operation \"qRAM operation\".\n",
    "\n",
    "Although qRAM operation requires $\\mathcal{O}(N\\log N)$ gates, it can be used to create superposition states of binary data intuitively.  \n",
    "\n",
    "qRAM has previously been applied to various quantum machine learning algorithms such as the HHL algorithm. For this problem, let's apply qRAM to Grover's algorithm."
   ]
  },
  {
   "cell_type": "markdown",
   "metadata": {},
   "source": [
    "## Example: Find the data from qRAM\n",
    "Prepare a qRAM of $n$-addresses in which the numbers $k_0, k_1, .. , k_{n-1}$ are stored in this order.  \n",
    "Find the address in which the number $m$ is stored using Grover's algorithm.  \n",
    "- $n = 4$\n",
    "- $k = [1,2,5,7]$\n",
    "- $m = 7$\n",
    "\n",
    "### qRAM operation.\n",
    "Here we show a circuit example of qRAM."
   ]
  },
  {
   "cell_type": "markdown",
   "metadata": {},
   "source": [
    "### qRAM Data Search\n",
    "To perform Grover's algorithm, we invert the sign of the **address qubit** containing $m$. We also need to initialize the **data qubit** by another qRAM operation before the Diffusion operation,\n",
    "\n",
    "\\begin{align*}\n",
    "\\vert j \\rangle_{a}\\vert D_{j} \\rangle_{d} \\vert - \\rangle_{f}\n",
    "\\xrightarrow{oracle}  \n",
    "\\left \\{\n",
    " \\begin{array}{l}\n",
    "-\\vert j \\rangle_{a}\\vert D_{j} \\rangle_{d} \\vert - \\rangle_{f},  D_{j} = m\\\\\n",
    "\\vert j \\rangle_{a}\\vert D_{j} \\rangle_{d} \\vert - \\rangle_{f},  D_{j}  \\neq m\n",
    " \\end{array}\n",
    " \\right.\n",
    " \\xrightarrow{qRAM}\n",
    "\\left \\{\n",
    " \\begin{array}{l}\n",
    "-\\vert j \\rangle_{a}\\vert 0 \\rangle_{d}\\vert - \\rangle_{f},  D_{j} = m \\\\\n",
    "\\vert j \\rangle_{a}\\vert 0 \\rangle_{d}\\vert - \\rangle_{f},　D_{j}\\neq m\n",
    " \\end{array}\n",
    " \\right.\n",
    " \\end{align*}\n",
    " \n",
    "where $f$ denotes the flag qubit.  \n",
    "\n",
    "In this case, we can configure an oracle operation using the [C3X gate](https://qiskit.org/documentation/stubs/qiskit.circuit.library.C3XGate.html#qiskit.circuit.library.C3XGate) . \n",
    "\n",
    "Here, we show the whole circuit for our [qRAM example](#qRAM-Example:-Find-the-data-from-qRAM)."
   ]
  },
  {
   "cell_type": "markdown",
   "metadata": {},
   "source": [
    "### Considerations for qRAM implementation\n",
    "In the above description we have introduced a naive *qRAM operation* circuit.\n",
    "Depending on the data structure, we can simplify the circuit by using **gate synthesis** (equivalence transformation) techniques.\n",
    "Also, some simplified gates, e.g. [RCCX](https://qiskit.org/documentation/stubs/qiskit.circuit.library.RCCXGate.html#qiskit.circuit.library.RCCXGate), may help improve your *CNOT*-saving implementation.\n",
    "\n",
    "An example of gate synthesis is shown below."
   ]
  },
  {
   "cell_type": "markdown",
   "metadata": {},
   "source": [
    "## Learning Exercise II-B\n",
    "Let's solve a 4-Lights Out problem with qRAM.  \n",
    "\n",
    "When the initial board state lightsout4=\\[\\[Board 0\\],\\[Board 1\\],\\[Board 2\\],\\[Board 3\\]\\] is described by the following data, \n",
    "determine the _binary_ number of the solvable boards in $3$ switch operations.  (ex. Board 0 → 00, 1 → 01, 2 → 10, 3 → 11)\n",
    "\n",
    "Answer by creating a quantum circuit to solve the puzzle shown in the figure below. In the quantum circuit to be submitted, measure only the `solution` (2bit) that solves the puzzle.\n",
    "\n",
    "To submit your solution, create a function which takes \"lightsout4\" as an input and return `QuantumCircuit`.  Function's name does not matter. Make sure it works even if you input another dataset to \"lightsout4\".\n",
    "\n",
    " **In addition, please implement the quantum circuit within 28 qubits.**\n",
    "\n",
    "Please note that you can get the answer with the same endian as the one used in the description. You can also use the following function.\n",
    "```python\n",
    "qc = qc.reverse_bits()\n",
    "```"
   ]
  },
  {
   "cell_type": "code",
   "execution_count": 6,
   "metadata": {},
   "outputs": [],
   "source": [
    "lightsout4=[[1, 1, 1, 0, 0, 0, 1, 0, 0],[1, 0, 1, 0, 0, 0, 1, 1, 0],[1, 0, 1, 1, 1, 1, 0, 0, 1],[1, 0, 0, 0, 0, 0, 1, 0, 0]]"
   ]
  },
  {
   "cell_type": "markdown",
   "metadata": {},
   "source": [
    "### Hints\n",
    "- Change the oracle of [qRAM data search](#qRAM-Data-search) to an appropriate one.\n",
    "- Data storing/writing in *QRAM operation* can be performed in any order. We can reduce the number of gates by taking into account the _hamming distance_ of the address and input data."
   ]
  },
  {
   "cell_type": "code",
   "execution_count": 7,
   "metadata": {
    "pycharm": {
     "name": "#%%\n"
    }
   },
   "outputs": [],
   "source": [
    "def execute_circuit(circuit):\n",
    "    backend = Aer.get_backend('qasm_simulator')\n",
    "    job = execute(circuit, backend=backend, shots=8000, seed_simulator=12345, backend_options={\"fusion_enable\":True})\n",
    "    #job = execute(qc, backend=backend, shots=8192)\n",
    "    result = job.result()\n",
    "    count = result.get_counts()\n",
    "    print(count)\n"
   ]
  },
  {
   "cell_type": "code",
   "execution_count": 8,
   "metadata": {
    "pycharm": {
     "name": "#%%\n"
    }
   },
   "outputs": [],
   "source": [
    "def qram(circuit, address_register, data_register):\n",
    "    # address 0 -> data = 1 (001)\n",
    "    circuit.x([address_register[0],address_register[1]])\n",
    "    circuit.ccx(address_register[0],address_register[1],data_register[2])\n",
    "    circuit.x([address_register[0],address_register[1]])\n",
    "    circuit.barrier()\n",
    "    # address 1 -> data = 2 (010)\n",
    "    circuit.x(address_register[0])\n",
    "    circuit.ccx(address_register[0],address_register[1],data_register[1])\n",
    "    circuit.x(address_register[0])\n",
    "    circuit.barrier()\n",
    "    # address 2 -> data = 5 (101)\n",
    "    circuit.x(address_register[1])\n",
    "    circuit.ccx(address_register[0],address_register[1],data_register[2])\n",
    "    circuit.ccx(address_register[0],address_register[1],data_register[0])\n",
    "    circuit.x(address_register[1])\n",
    "    circuit.barrier()\n",
    "    # address 3 -> data = 7 (111)\n",
    "    circuit.ccx(address_register[0],address_register[1],data_register[2])\n",
    "    circuit.ccx(address_register[0],address_register[1],data_register[1])\n",
    "    circuit.ccx(address_register[0],address_register[1],data_register[0])\n",
    "    circuit.barrier()"
   ]
  },
  {
   "cell_type": "code",
   "execution_count": 9,
   "metadata": {
    "pycharm": {
     "name": "#%%\n"
    }
   },
   "outputs": [],
   "source": [
    "def qram_reversed(circuit, address_register, data_register):\n",
    "    # address 3 -> data = 7 (111)\n",
    "    circuit.ccx(address_register[0],address_register[1],data_register[2])\n",
    "    circuit.ccx(address_register[0],address_register[1],data_register[1])\n",
    "    circuit.ccx(address_register[0],address_register[1],data_register[0])\n",
    "    circuit.barrier()\n",
    "    # address 2 -> data = 5 (101)\n",
    "    circuit.x(address_register[1])\n",
    "    circuit.ccx(address_register[0],address_register[1],data_register[2])\n",
    "    circuit.ccx(address_register[0],address_register[1],data_register[0])\n",
    "    circuit.x(address_register[1])\n",
    "    circuit.barrier()\n",
    "    # address 1 -> data = 2 (010)\n",
    "    circuit.x(address_register[0])\n",
    "    circuit.ccx(address_register[0],address_register[1],data_register[1])\n",
    "    circuit.x(address_register[0])\n",
    "    circuit.barrier()\n",
    "    # address 0 -> data = 1 (001)\n",
    "    circuit.x([address_register[0],address_register[1]])\n",
    "    circuit.ccx(address_register[0],address_register[1],data_register[2])\n",
    "    circuit.x([address_register[0],address_register[1]])\n",
    "    circuit.barrier()\n",
    "\n",
    "\n"
   ]
  },
  {
   "cell_type": "code",
   "execution_count": 10,
   "metadata": {
    "pycharm": {
     "name": "#%%\n"
    }
   },
   "outputs": [],
   "source": [
    "\n",
    "def in_range(index, max_len):\n",
    "    if 0 <= index < max_len:\n",
    "        return True\n",
    "    return False\n",
    "\n",
    "from math import sqrt\n",
    "\n",
    "def flip_tile(qc,flip,tile):\n",
    "    for i in range(0, len(flip)):\n",
    "        #print('flip ' + str(i) + 'tile ' + str(i))\n",
    "        qc.cx(flip[i], tile[i])\n",
    "        # nit the first cell in row\n",
    "        if in_range(i-1, len(flip)) and i % sqrt(len(flip)):\n",
    "            #print('flip ' + str(i) + 'tile ' + str(i-1))\n",
    "            qc.cx(flip[i], tile[i-1])\n",
    "        # not the last cell in row\n",
    "        if in_range(i+1, len(flip)) and (i + 1) % sqrt(len(flip)):\n",
    "            #print('flip ' + str(i) + 'tile ' + str(i+1))\n",
    "            qc.cx(flip[i], tile[i+1])\n",
    "        if in_range(i-sqrt(len(flip)), len(flip)):\n",
    "            #print('flip ' + str(i) + 'tile ' + str(int(i-sqrt(len(flip)))))\n",
    "            qc.cx(flip[i], tile[int(i-sqrt(len(flip)))])\n",
    "        if in_range(i+sqrt(len(flip)), len(flip)):\n",
    "            #print('flip ' + str(i) + 'tile ' + str(int(i+sqrt(len(flip)))))\n",
    "            qc.cx(flip[i], tile[int(i+sqrt(len(flip)))])\n",
    "    #print('\\n\\nend flip')\n",
    "\n"
   ]
  },
  {
   "cell_type": "code",
   "execution_count": 11,
   "metadata": {
    "pycharm": {
     "name": "#%%\n"
    }
   },
   "outputs": [],
   "source": [
    "def initialize(circuit, address_register, flip_register, oracle):\n",
    "    circuit.h([address_register[0],address_register[1]])\n",
    "    circuit.h(flip_register[:3])\n",
    "    circuit.x(oracle[0])\n",
    "    circuit.h(oracle[0])\n"
   ]
  },
  {
   "cell_type": "code",
   "execution_count": 12,
   "metadata": {
    "pycharm": {
     "name": "#%%\n"
    }
   },
   "outputs": [],
   "source": [
    "#qram\n",
    "def qram_exercise(prob_array, qc, qr, qa):\n",
    "    k=0\n",
    "    for board in prob_array:\n",
    "        if k//2==0:\n",
    "            qc.x(qa[0])\n",
    "        if k%2==0:\n",
    "            qc.x(qa[1])\n",
    "        j=0\n",
    "        for i in board:\n",
    "            if i==1:\n",
    "                qc.ccx(qa[0],qa[1],qr[j])\n",
    "                j+=1\n",
    "            else:\n",
    "                j+=1\n",
    "        if k//2==0:\n",
    "            qc.x(qa[0])\n",
    "        if k%2==0:\n",
    "            qc.x(qa[1])\n",
    "        k+=1"
   ]
  },
  {
   "cell_type": "code",
   "execution_count": 13,
   "metadata": {},
   "outputs": [],
   "source": [
    "#U2A (base: 2a-another solution)\n",
    "def flip_1(qc,flip,tile):\n",
    "    # push 0\n",
    "    qc.cx(flip[0], tile[0])\n",
    "    qc.cx(flip[0], tile[1])\n",
    "    qc.cx(flip[0], tile[3])\n",
    "    # push 1\n",
    "    qc.cx(flip[1], tile[0])\n",
    "    qc.cx(flip[1], tile[1])\n",
    "    qc.cx(flip[1], tile[2])\n",
    "    qc.cx(flip[1], tile[4])\n",
    "    # push 2\n",
    "    qc.cx(flip[2], tile[1])\n",
    "    qc.cx(flip[2], tile[2])\n",
    "    qc.cx(flip[2], tile[5])\n",
    "\n",
    "def inv_1(qc,flip,tile):\n",
    "    # copy 0,1,2\n",
    "    qc.cx(tile[0], flip[3])\n",
    "    qc.cx(tile[1], flip[4])\n",
    "    qc.cx(tile[2], flip[5])\n",
    "\n",
    "def flip_2(qc,flip,tile):\n",
    "    # apply flip[3,4,5]\n",
    "    qc.cx(flip[3], tile[0])\n",
    "    qc.cx(flip[3], tile[3])\n",
    "    qc.cx(flip[3], tile[4])\n",
    "    qc.cx(flip[3], tile[6])\n",
    "    qc.cx(flip[4], tile[1])\n",
    "    qc.cx(flip[4], tile[3])\n",
    "    qc.cx(flip[4], tile[4])\n",
    "    qc.cx(flip[4], tile[5])\n",
    "    qc.cx(flip[4], tile[7])\n",
    "    qc.cx(flip[5], tile[2])\n",
    "    qc.cx(flip[5], tile[4])\n",
    "    qc.cx(flip[5], tile[5])\n",
    "    qc.cx(flip[5], tile[8])\n",
    "\n",
    "def inv_2(qc,flip,tile):\n",
    "    # copy 3,4,5\n",
    "    qc.cx(tile[3], flip[6])\n",
    "    qc.cx(tile[4], flip[7])\n",
    "    qc.cx(tile[5], flip[8])\n",
    "\n",
    "def flip_3(qc,flip,tile):\n",
    "    qc.cx(flip[6], tile[3])\n",
    "    qc.cx(flip[6], tile[6])\n",
    "    qc.cx(flip[6], tile[7])\n",
    "    qc.cx(flip[7], tile[4])\n",
    "    qc.cx(flip[7], tile[6])\n",
    "    qc.cx(flip[7], tile[7])\n",
    "    qc.cx(flip[7], tile[8])\n",
    "    qc.cx(flip[8], tile[5])\n",
    "    qc.cx(flip[8], tile[7])\n",
    "    qc.cx(flip[8], tile[8])\n",
    "\n",
    "def lights_out_oracle(qc,tile,oracle,auxiliary):\n",
    "    qc.x(tile[6:9])\n",
    "    qc.mct(tile[6:9], oracle[0], auxiliary)\n",
    "    qc.x(tile[6:9])\n",
    "\n",
    "def flipdiffusion(qc,flip):\n",
    "    qc.h(flip[:3])\n",
    "    qc.x(flip[:3])\n",
    "    qc.h(flip[2])\n",
    "    qc.ccx(flip[0],flip[1],flip[2])\n",
    "    qc.h(flip[2])\n",
    "    qc.x(flip[:3])\n",
    "    qc.h(flip[:3])"
   ]
  },
  {
   "cell_type": "code",
   "execution_count": 14,
   "metadata": {
    "pycharm": {
     "name": "#%%\n"
    }
   },
   "outputs": [],
   "source": [
    "# Counter components\n",
    "def counter(qc, flip,auxiliary):\n",
    "    for i in range(len(flip)):\n",
    "        qc.mct([flip[i],auxiliary[0],auxiliary[1],auxiliary[2]],auxiliary[3],auxiliary[4:6])\n",
    "        qc.mct([flip[i],auxiliary[0],auxiliary[1]],auxiliary[2],auxiliary[4])\n",
    "        qc.ccx(flip[i],auxiliary[0],auxiliary[1])\n",
    "        qc.cx(flip[i],auxiliary[0])\n",
    "\n",
    "def revcounter(qc, flip,auxiliary):\n",
    "    for i in range(len(flip)):\n",
    "        qc.cx(flip[i],auxiliary[0])\n",
    "        qc.ccx(flip[i],auxiliary[0],auxiliary[1])\n",
    "        qc.mct([flip[i],auxiliary[0],auxiliary[1]],auxiliary[2],auxiliary[4])\n",
    "        qc.mct([flip[i],auxiliary[0],auxiliary[1],auxiliary[2]],auxiliary[3],auxiliary[4:6])\n",
    "\n",
    "def addressdiffusion(qc,address):\n",
    "    qc.h(address[:2])\n",
    "    qc.x(address[:2])\n",
    "    qc.cz(address[0],address[1])\n",
    "    qc.x(address[:2])\n",
    "    qc.h(address[:2])"
   ]
  },
  {
   "cell_type": "code",
   "execution_count": 15,
   "metadata": {
    "pycharm": {
     "name": "#%%\n"
    }
   },
   "outputs": [],
   "source": [
    "def week2b_ans_func(lightout4):\n",
    "    ##### Build your cirucuit here\n",
    "    ####  In addition, please make it a function that can solve the problem even with different inputs (lightout4). We do validation with different inputs.\n",
    "    address = QuantumRegister(2, 'address')\n",
    "    # data = QuantumRegister(3, 'data')\n",
    "    tile = QuantumRegister(9, 'tile')\n",
    "    flip = QuantumRegister(9, 'flip')\n",
    "    oracle = QuantumRegister(1, 'oracle')\n",
    "    auxiliary = QuantumRegister(6, 'auxiliary')\n",
    "    classic = ClassicalRegister(2, 'classic_output')\n",
    "    qc = QuantumCircuit(address, tile, flip, oracle, auxiliary, classic)\n",
    "\n",
    "    # address preparation\n",
    "    initialize(qc, address, flip, oracle)\n",
    "    qram_exercise(lightsout4, qc, tile, address)\n",
    "    #U_2A\n",
    "    for i in range(2):\n",
    "        flip_1(qc,flip,tile)\n",
    "        inv_1(qc,flip,tile)\n",
    "        flip_2(qc,flip,tile)\n",
    "        inv_2(qc,flip,tile)\n",
    "        flip_3(qc,flip,tile)\n",
    "\n",
    "        lights_out_oracle(qc,tile,oracle,auxiliary)\n",
    "\n",
    "        flip_3(qc,flip,tile)\n",
    "        inv_2(qc,flip,tile)\n",
    "        flip_2(qc,flip,tile)\n",
    "        inv_1(qc,flip,tile)\n",
    "        flip_1(qc,flip,tile)\n",
    "\n",
    "        flipdiffusion(qc,flip)\n",
    "\n",
    "\n",
    "    #Converting \"3 qubits flip-information\" to 9 qubits.\n",
    "    flip_1(qc,flip,tile)\n",
    "    inv_1(qc,flip,tile)\n",
    "    flip_2(qc,flip,tile)\n",
    "    inv_2(qc,flip,tile)\n",
    "\n",
    "    #count number of \"1\"s\n",
    "    counter(qc, flip,auxiliary)\n",
    "\n",
    "    #Inverting the phase of a legal solution (up to 3 pushes).\n",
    "    qc.x(auxiliary[2])\n",
    "    qc.x(auxiliary[3])\n",
    "    qc.ccx(auxiliary[2], auxiliary[3],oracle[0])\n",
    "    qc.x(auxiliary[2])\n",
    "    qc.x(auxiliary[3])\n",
    "\n",
    "    #Uncomputing: The phase information returns to the 3 qubits flip-information.\n",
    "    revcounter(qc, flip, auxiliary)\n",
    "    inv_2(qc,flip,tile)\n",
    "    flip_2(qc,flip,tile)\n",
    "    inv_1(qc,flip,tile)\n",
    "    flip_1(qc,flip,tile)\n",
    "\n",
    "    #Uncomputing: The phase information returns to the 9 qubits board-information.\n",
    "    for i in range(2):\n",
    "        flipdiffusion(qc,flip)\n",
    "        flip_1(qc,flip,tile)\n",
    "        inv_1(qc,flip,tile)\n",
    "        flip_2(qc,flip,tile)\n",
    "        inv_2(qc,flip,tile)\n",
    "        flip_3(qc,flip,tile)\n",
    "\n",
    "        lights_out_oracle(qc,tile,oracle,auxiliary)\n",
    "\n",
    "        flip_3(qc,flip,tile)\n",
    "        inv_2(qc,flip,tile)\n",
    "        flip_2(qc,flip,tile)\n",
    "        inv_1(qc,flip,tile)\n",
    "        flip_1(qc,flip,tile)\n",
    "\n",
    "    #Uncomputing: The phase information returns to the QRAM address qubits.\n",
    "    qram_exercise(lightsout4, qc, tile, address)\n",
    "\n",
    "    #Diffusion\n",
    "    addressdiffusion(qc,address)\n",
    "    # Measurement\n",
    "    qc.measure(address,classic[0:2])\n",
    "\n",
    "    # Reverse the output string.\n",
    "    qc = qc.reverse_bits()\n",
    "\n",
    "    return qc"
   ]
  },
  {
   "cell_type": "code",
   "execution_count": 16,
   "metadata": {},
   "outputs": [
    {
     "name": "stdout",
     "output_type": "stream",
     "text": [
      "{'00': 63, '01': 7765, '10': 103, '11': 69}\n"
     ]
    },
    {
     "name": "stderr",
     "output_type": "stream",
     "text": [
      "<ipython-input-7-f580fa7aaf46>:3: DeprecationWarning: Using `backend_options` kwarg has been deprecated as of qiskit-aer 0.7.0 and will be removed no earlier than 3 months from that release date. Runtime backend options should now be added directly using kwargs for each option.\n",
      "  job = execute(circuit, backend=backend, shots=8000, seed_simulator=12345, backend_options={\"fusion_enable\":True})\n"
     ]
    }
   ],
   "source": [
    "circuit = week2b_ans_func(lightsout4)\n",
    "execute_circuit(circuit)"
   ]
  },
  {
   "cell_type": "code",
   "execution_count": 17,
   "metadata": {
    "pycharm": {
     "name": "#%%\n"
    }
   },
   "outputs": [
    {
     "name": "stdout",
     "output_type": "stream",
     "text": [
      "OrderedDict([('u3', 1964), ('cx', 1951), ('measure', 2)])\n"
     ]
    }
   ],
   "source": [
    "from qiskit.transpiler import PassManager\n",
    "from qiskit.transpiler.passes import Unroller\n",
    "\n",
    "# Unroll the circuit\n",
    "pass_ = Unroller(['u3', 'cx'])\n",
    "pm = PassManager(pass_)\n",
    "new_circuit = pm.run(circuit)\n",
    "\n",
    "# obtain gates\n",
    "gates=new_circuit.count_ops()\n",
    "print(gates)"
   ]
  },
  {
   "cell_type": "code",
   "execution_count": null,
   "metadata": {},
   "outputs": [],
   "source": []
  }
 ],
 "metadata": {
  "kernelspec": {
   "display_name": "Python 3",
   "language": "python",
   "name": "python3"
  },
  "language_info": {
   "codemirror_mode": {
    "name": "ipython",
    "version": 3
   },
   "file_extension": ".py",
   "mimetype": "text/x-python",
   "name": "python",
   "nbconvert_exporter": "python",
   "pygments_lexer": "ipython3",
   "version": "3.8.2"
  }
 },
 "nbformat": 4,
 "nbformat_minor": 2
}