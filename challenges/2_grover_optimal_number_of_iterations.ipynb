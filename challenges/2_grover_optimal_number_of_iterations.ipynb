{
 "cells": [
  {
   "cell_type": "markdown",
   "metadata": {
    "collapsed": true,
    "pycharm": {
     "name": "#%% md\n"
    }
   },
   "source": [
    "The optimal number of times can be calculated using the following formula.\n",
    "$$t = \\frac{\\pi}{4}\\sqrt{N}-\\frac{1}{2}$$\n"
   ]
  },
  {
   "cell_type": "markdown",
   "source": [
    "The number of iterations (approximate) when N is up to $2^{16}$"
   ],
   "metadata": {
    "collapsed": false
   }
  },
  {
   "cell_type": "code",
   "execution_count": 2,
   "outputs": [
    {
     "name": "stdout",
     "output_type": "stream",
     "text": [
      "['N:1', 'Number of iteration:0.2853981633974483']\n",
      "['N:2', 'Number of iteration:0.6107207345395915']\n",
      "['N:4', 'Number of iteration:1.0707963267948966']\n",
      "['N:8', 'Number of iteration:1.721441469079183']\n",
      "['N:16', 'Number of iteration:2.641592653589793']\n",
      "['N:32', 'Number of iteration:3.942882938158366']\n",
      "['N:64', 'Number of iteration:5.783185307179586']\n",
      "['N:128', 'Number of iteration:8.385765876316732']\n",
      "['N:256', 'Number of iteration:12.066370614359172']\n",
      "['N:512', 'Number of iteration:17.271531752633464']\n",
      "['N:1024', 'Number of iteration:24.632741228718345']\n",
      "['N:2048', 'Number of iteration:35.04306350526693']\n",
      "['N:4096', 'Number of iteration:49.76548245743669']\n",
      "['N:8192', 'Number of iteration:70.58612701053386']\n",
      "['N:16384', 'Number of iteration:100.03096491487338']\n",
      "['N:32768', 'Number of iteration:141.67225402106772']\n"
     ]
    }
   ],
   "source": [
    "# Number of iteration\n",
    "import math\n",
    "import numpy as np\n",
    "\n",
    "def num_iter(n):\n",
    "    res = ((np.pi/4) * (math.sqrt(n))) - (1/2)\n",
    "    iter_list = ['N:'+str(n), 'Number of iteration:'+ str(res)]\n",
    "    return iter_list\n",
    "\n",
    "for i in range(16):\n",
    "    n = 2**i\n",
    "    print(num_iter(n))\n"
   ],
   "metadata": {
    "collapsed": false,
    "pycharm": {
     "name": "#%%\n"
    }
   }
  },
  {
   "cell_type": "code",
   "execution_count": 3,
   "outputs": [
    {
     "name": "stdout",
     "output_type": "stream",
     "text": [
      "['N:512', 'Number of iteration:17.271531752633464']\n"
     ]
    }
   ],
   "source": [
    "print(num_iter(2 ** 9))"
   ],
   "metadata": {
    "collapsed": false,
    "pycharm": {
     "name": "#%%\n"
    }
   }
  }
 ],
 "metadata": {
  "kernelspec": {
   "display_name": "Python 3",
   "language": "python",
   "name": "python3"
  },
  "language_info": {
   "codemirror_mode": {
    "name": "ipython",
    "version": 2
   },
   "file_extension": ".py",
   "mimetype": "text/x-python",
   "name": "python",
   "nbconvert_exporter": "python",
   "pygments_lexer": "ipython2",
   "version": "2.7.6"
  }
 },
 "nbformat": 4,
 "nbformat_minor": 0
}