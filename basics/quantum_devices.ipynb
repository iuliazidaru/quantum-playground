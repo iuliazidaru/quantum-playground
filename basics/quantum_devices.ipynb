{
 "cells": [
  {
   "cell_type": "markdown",
   "metadata": {},
   "source": [
    "# Investigate Quantum devices"
   ]
  },
  {
   "cell_type": "code",
   "execution_count": 4,
   "metadata": {},
   "outputs": [],
   "source": [
    "from qiskit import IBMQ\n",
    "from qiskit.providers.ibmq import least_busy"
   ]
  },
  {
   "cell_type": "markdown",
   "metadata": {},
   "source": [
    "Method for displaying the device configuration"
   ]
  },
  {
   "cell_type": "code",
   "execution_count": 22,
   "metadata": {},
   "outputs": [],
   "source": [
    "def printConfiguration(device):\n",
    "    config = device.configuration()\n",
    "    print('\\nBackend name:  ' + config.backend_name)\n",
    "    print('Backend version:  ' + config.backend_version)\n",
    "    print('Number qubits:  ' + str(config.n_qubits))\n",
    "    print('Basic gates:  ' + str(config.basis_gates))\n",
    "    #print('Gates:  ' + str(config.gates))\n",
    "    print('Local:  ' + str(config.local))\n",
    "    print('Simulator:  ' + str(config.simulator))\n",
    "    print('Open pulse:  ' + str(config.open_pulse))\n",
    "    print('Memory:  ' + str(config.memory))\n",
    "    print('Max shots:  ' + str(config.max_shots))"
   ]
  },
  {
   "cell_type": "code",
   "execution_count": 23,
   "metadata": {},
   "outputs": [
    {
     "name": "stderr",
     "output_type": "stream",
     "text": [
      "ibmqfactory.load_account:WARNING:2020-12-09 16:49:51,797: Credentials are already in use. The existing account in the session will be replaced.\n"
     ]
    },
    {
     "name": "stdout",
     "output_type": "stream",
     "text": [
      "\n",
      "Backend name:  ibmq_qasm_simulator\n",
      "Backend version:  0.1.547\n",
      "Number qubits:  32\n",
      "Basic gates:  ['u1', 'u2', 'u3', 'u', 'p', 'r', 'rx', 'ry', 'rz', 'id', 'x', 'y', 'z', 'h', 's', 'sdg', 'sx', 't', 'tdg', 'swap', 'cx', 'cy', 'cz', 'csx', 'cp', 'cu1', 'cu2', 'cu3', 'rxx', 'ryy', 'rzz', 'rzx', 'ccx', 'cswap', 'mcx', 'mcy', 'mcz', 'mcsx', 'mcp', 'mcu1', 'mcu2', 'mcu3', 'mcrx', 'mcry', 'mcrz', 'mcr', 'mcswap', 'unitary', 'diagonal', 'multiplexer', 'initialize', 'kraus', 'roerror', 'delay']\n",
      "Local:  False\n",
      "Simulator:  True\n",
      "Open pulse:  False\n",
      "Memory:  True\n",
      "Max shots:  8192\n",
      "\n",
      "Backend name:  ibmqx2\n",
      "Backend version:  2.2.5\n",
      "Number qubits:  5\n",
      "Basic gates:  ['id', 'u1', 'u2', 'u3', 'cx']\n",
      "Local:  False\n",
      "Simulator:  False\n",
      "Open pulse:  False\n",
      "Memory:  True\n",
      "Max shots:  8192\n",
      "\n",
      "Backend name:  ibmq_16_melbourne\n",
      "Backend version:  2.3.3\n",
      "Number qubits:  15\n",
      "Basic gates:  ['id', 'u1', 'u2', 'u3', 'cx']\n",
      "Local:  False\n",
      "Simulator:  False\n",
      "Open pulse:  False\n",
      "Memory:  True\n",
      "Max shots:  8192\n",
      "\n",
      "Backend name:  ibmq_vigo\n",
      "Backend version:  1.3.3\n",
      "Number qubits:  5\n",
      "Basic gates:  ['id', 'u1', 'u2', 'u3', 'cx']\n",
      "Local:  False\n",
      "Simulator:  False\n",
      "Open pulse:  False\n",
      "Memory:  True\n",
      "Max shots:  8192\n",
      "\n",
      "Backend name:  ibmq_ourense\n",
      "Backend version:  1.3.3\n",
      "Number qubits:  5\n",
      "Basic gates:  ['id', 'u1', 'u2', 'u3', 'cx']\n",
      "Local:  False\n",
      "Simulator:  False\n",
      "Open pulse:  False\n",
      "Memory:  True\n",
      "Max shots:  8192\n",
      "\n",
      "Backend name:  ibmq_valencia\n",
      "Backend version:  1.4.3\n",
      "Number qubits:  5\n",
      "Basic gates:  ['id', 'u1', 'u2', 'u3', 'cx']\n",
      "Local:  False\n",
      "Simulator:  False\n",
      "Open pulse:  False\n",
      "Memory:  True\n",
      "Max shots:  8192\n",
      "\n",
      "Backend name:  ibmq_armonk\n",
      "Backend version:  1.1.3\n",
      "Number qubits:  1\n",
      "Basic gates:  ['id', 'u1', 'u2', 'u3']\n",
      "Local:  False\n",
      "Simulator:  False\n",
      "Open pulse:  True\n",
      "Memory:  True\n",
      "Max shots:  8192\n",
      "\n",
      "Backend name:  ibmq_athens\n",
      "Backend version:  1.3.3\n",
      "Number qubits:  5\n",
      "Basic gates:  ['id', 'u1', 'u2', 'u3', 'cx']\n",
      "Local:  False\n",
      "Simulator:  False\n",
      "Open pulse:  False\n",
      "Memory:  True\n",
      "Max shots:  8192\n",
      "\n",
      "Backend name:  ibmq_santiago\n",
      "Backend version:  1.3.0\n",
      "Number qubits:  5\n",
      "Basic gates:  ['id', 'u1', 'u2', 'u3', 'cx']\n",
      "Local:  False\n",
      "Simulator:  False\n",
      "Open pulse:  False\n",
      "Memory:  True\n",
      "Max shots:  8192\n"
     ]
    },
    {
     "data": {
      "text/plain": [
       "[]"
      ]
     },
     "execution_count": 23,
     "metadata": {},
     "output_type": "execute_result"
    }
   ],
   "source": [
    "# Input your IBM Quantum Experience API Token (get it from https://quantum-computing.ibm.com/account)\n",
    "\n",
    "#Load your account\n",
    "provider = IBMQ.load_account()\n",
    "provider.backends(filters=lambda x: printConfiguration(x)) "
   ]
  },
  {
   "cell_type": "markdown",
   "metadata": {},
   "source": [
    "Get last busy device:"
   ]
  },
  {
   "cell_type": "code",
   "execution_count": 36,
   "metadata": {},
   "outputs": [
    {
     "name": "stdout",
     "output_type": "stream",
     "text": [
      "Least busy device:  ibmq_valencia\n"
     ]
    }
   ],
   "source": [
    "device = least_busy(provider.backends(filters=lambda x: x.configuration().n_qubits >= 5 and \n",
    "                                      x.configuration().simulator==False and x.status().operational==True))\n",
    "print(\"Least busy device: \", device)"
   ]
  },
  {
   "cell_type": "markdown",
   "metadata": {},
   "source": [
    "Inspect Qubit"
   ]
  },
  {
   "cell_type": "code",
   "execution_count": 30,
   "metadata": {},
   "outputs": [],
   "source": [
    "def describe_qubit(qubit, properties):\n",
    "    \"\"\"Print a string describing some of reported properties of the given qubit.\"\"\"\n",
    "\n",
    "    # Conversion factors from standard SI units\n",
    "    us = 1e6\n",
    "    ns = 1e9\n",
    "    GHz = 1e-9\n",
    "\n",
    "    print(\"Qubit {0} has a \\n\"\n",
    "          \"  - T1 time of {1} microseconds\\n\"\n",
    "          \"  - T2 time of {2} microseconds\\n\"\n",
    "          \"  - U2 gate error of {3}\\n\"\n",
    "          \"  - U2 gate duration of {4} nanoseconds\\n\"\n",
    "          \"  - resonant frequency of {5} GHz\".format(\n",
    "              qubit,\n",
    "              properties.t1(qubit) * us,\n",
    "              properties.t2(qubit) * us,\n",
    "              properties.gate_error('u2', qubit),\n",
    "              properties.gate_length('u2', qubit) * ns,\n",
    "              properties.frequency(qubit) * GHz))"
   ]
  },
  {
   "cell_type": "code",
   "execution_count": 38,
   "metadata": {},
   "outputs": [
    {
     "name": "stdout",
     "output_type": "stream",
     "text": [
      "Qubit 0 has a \n",
      "  - T1 time of 95.34936709475475 microseconds\n",
      "  - T2 time of 51.19808574249202 microseconds\n",
      "  - U2 gate error of 0.0004973979701262347\n",
      "  - U2 gate duration of 35.55555555555556 nanoseconds\n",
      "  - resonant frequency of 4.743894394003342 GHz\n",
      "Qubit 1 has a \n",
      "  - T1 time of 56.56137789629907 microseconds\n",
      "  - T2 time of 38.31169981968263 microseconds\n",
      "  - U2 gate error of 0.00036282269020613926\n",
      "  - U2 gate duration of 35.55555555555556 nanoseconds\n",
      "  - resonant frequency of 4.660924535967256 GHz\n",
      "Qubit 2 has a \n",
      "  - T1 time of 112.86828099509853 microseconds\n",
      "  - T2 time of 62.762842826883094 microseconds\n",
      "  - U2 gate error of 0.0004163232320926439\n",
      "  - U2 gate duration of 35.55555555555556 nanoseconds\n",
      "  - resonant frequency of 4.792490870363142 GHz\n",
      "Qubit 3 has a \n",
      "  - T1 time of 124.12458619109451 microseconds\n",
      "  - T2 time of 37.16486868521014 microseconds\n",
      "  - U2 gate error of 0.0003549560730031215\n",
      "  - U2 gate duration of 35.55555555555556 nanoseconds\n",
      "  - resonant frequency of 4.834411879249608 GHz\n",
      "Qubit 4 has a \n",
      "  - T1 time of 133.75101959005988 microseconds\n",
      "  - T2 time of 141.31582688760963 microseconds\n",
      "  - U2 gate error of 0.00032303200685597283\n",
      "  - U2 gate duration of 35.55555555555556 nanoseconds\n",
      "  - resonant frequency of 4.95952232500148 GHz\n"
     ]
    }
   ],
   "source": [
    "props = device.properties()\n",
    "describe_qubit(0, props)\n",
    "describe_qubit(1, props)\n",
    "describe_qubit(2, props)\n",
    "describe_qubit(3, props)\n",
    "describe_qubit(4, props)"
   ]
  },
  {
   "cell_type": "code",
   "execution_count": null,
   "metadata": {},
   "outputs": [],
   "source": []
  }
 ],
 "metadata": {
  "kernelspec": {
   "display_name": "Python 3",
   "language": "python",
   "name": "python3"
  },
  "language_info": {
   "codemirror_mode": {
    "name": "ipython",
    "version": 3
   },
   "file_extension": ".py",
   "mimetype": "text/x-python",
   "name": "python",
   "nbconvert_exporter": "python",
   "pygments_lexer": "ipython3",
   "version": "3.7.9"
  }
 },
 "nbformat": 4,
 "nbformat_minor": 4
}