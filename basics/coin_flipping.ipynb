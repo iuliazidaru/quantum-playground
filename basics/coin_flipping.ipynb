{
 "cells": [
  {
   "cell_type": "markdown",
   "metadata": {},
   "source": [
    "# Coin flipping experiments"
   ]
  },
  {
   "cell_type": "code",
   "execution_count": 31,
   "metadata": {},
   "outputs": [
    {
     "name": "stderr",
     "output_type": "stream",
     "text": [
      "ibmqfactory.load_account:WARNING:2020-12-24 07:36:47,593: Credentials are already in use. The existing account in the session will be replaced.\n"
     ]
    }
   ],
   "source": [
    "from qiskit import  QuantumCircuit, QuantumRegister, ClassicalRegister\n",
    "from qiskit import IBMQ, Aer, execute\n",
    "from qiskit.visualization import plot_histogram\n",
    "provider = IBMQ.load_account()"
   ]
  },
  {
   "cell_type": "markdown",
   "metadata": {},
   "source": [
    "Helper for executing circuit"
   ]
  },
  {
   "cell_type": "code",
   "execution_count": 38,
   "metadata": {
    "pycharm": {
     "name": "#%%\n"
    }
   },
   "outputs": [],
   "source": [
    "def execute_circuit(circuit):\n",
    "    backend = Aer.get_backend('qasm_simulator')\n",
    "    results = execute(qc, backend, shots=1024).result().get_counts()\n",
    "    print(results)\n",
    "    display(plot_histogram(results))"
   ]
  },
  {
   "cell_type": "markdown",
   "metadata": {},
   "source": [
    "Circuit definition"
   ]
  },
  {
   "cell_type": "code",
   "execution_count": 39,
   "metadata": {
    "pycharm": {
     "name": "#%%\n"
    }
   },
   "outputs": [
    {
     "data": {
      "text/html": [
       "<pre style=\"word-wrap: normal;white-space: pre;background: #fff0;line-height: 1.1;font-family: &quot;Courier New&quot;,Courier,monospace\">           ┌───┐     ┌─┐   \n",
       "quantum_0: ┤ H ├──■──┤M├───\n",
       "           └───┘┌─┴─┐└╥┘┌─┐\n",
       "quantum_1: ─────┤ X ├─╫─┤M├\n",
       "                └───┘ ║ └╥┘\n",
       "classic: 2/═══════════╩══╩═\n",
       "                      0  1 </pre>"
      ],
      "text/plain": [
       "           ┌───┐     ┌─┐   \n",
       "quantum_0: ┤ H ├──■──┤M├───\n",
       "           └───┘┌─┴─┐└╥┘┌─┐\n",
       "quantum_1: ─────┤ X ├─╫─┤M├\n",
       "                └───┘ ║ └╥┘\n",
       "classic: 2/═══════════╩══╩═\n",
       "                      0  1 "
      ]
     },
     "metadata": {},
     "output_type": "display_data"
    },
    {
     "name": "stdout",
     "output_type": "stream",
     "text": [
      "{'00': 508, '11': 516}\n"
     ]
    },
    {
     "data": {
      "image/png": "[encoded data removed]",
      "text/plain": [
       "<Figure size 504x360 with 1 Axes>"
      ]
     },
     "metadata": {},
     "output_type": "display_data"
    }
   ],
   "source": [
    "quantum_register = QuantumRegister(2, \"quantum\")\n",
    "classic_register = ClassicalRegister(2, \"classic\")\n",
    "qc = QuantumCircuit(quantum_register, classic_register)\n",
    "qc.h(0)\n",
    "qc.cx(0, 1)\n",
    "qc.measure(quantum_register, classic_register)\n",
    "display(qc.draw())\n",
    "execute_circuit(qc)\n",
    "\n"
   ]
  },
  {
   "cell_type": "markdown",
   "metadata": {},
   "source": [
    "Other circuit - skip cnot gate"
   ]
  },
  {
   "cell_type": "code",
   "execution_count": 41,
   "metadata": {},
   "outputs": [
    {
     "data": {
      "text/html": [
       "<pre style=\"word-wrap: normal;white-space: pre;background: #fff0;line-height: 1.1;font-family: &quot;Courier New&quot;,Courier,monospace\">           ┌───┐┌─┐\n",
       "quantum_0: ┤ H ├┤M├\n",
       "           └┬─┬┘└╥┘\n",
       "quantum_1: ─┤M├──╫─\n",
       "            └╥┘  ║ \n",
       "classic: 2/══╩═══╩═\n",
       "             1   0 </pre>"
      ],
      "text/plain": [
       "           ┌───┐┌─┐\n",
       "quantum_0: ┤ H ├┤M├\n",
       "           └┬─┬┘└╥┘\n",
       "quantum_1: ─┤M├──╫─\n",
       "            └╥┘  ║ \n",
       "classic: 2/══╩═══╩═\n",
       "             1   0 "
      ]
     },
     "metadata": {},
     "output_type": "display_data"
    },
    {
     "name": "stdout",
     "output_type": "stream",
     "text": [
      "{'00': 511, '01': 513}\n"
     ]
    },
    {
     "data": {
      "image/png": "[encoded data removed]",
      "text/plain": [
       "<Figure size 504x360 with 1 Axes>"
      ]
     },
     "metadata": {},
     "output_type": "display_data"
    }
   ],
   "source": [
    "quantum_register = QuantumRegister(2, \"quantum\")\n",
    "classic_register = ClassicalRegister(2, \"classic\")\n",
    "qc = QuantumCircuit(quantum_register, classic_register)\n",
    "qc.h(0)\n",
    "qc.measure(quantum_register, classic_register)\n",
    "display(qc.draw())\n",
    "execute_circuit(qc)"
   ]
  },
  {
   "cell_type": "markdown",
   "metadata": {},
   "source": [
    "Other circuit - add not gate"
   ]
  },
  {
   "cell_type": "code",
   "execution_count": 44,
   "metadata": {},
   "outputs": [
    {
     "data": {
      "text/html": [
       "<pre style=\"word-wrap: normal;white-space: pre;background: #fff0;line-height: 1.1;font-family: &quot;Courier New&quot;,Courier,monospace\">           ┌───┐     ┌─┐   \n",
       "quantum_0: ┤ H ├──■──┤M├───\n",
       "           ├───┤┌─┴─┐└╥┘┌─┐\n",
       "quantum_1: ┤ X ├┤ X ├─╫─┤M├\n",
       "           └───┘└───┘ ║ └╥┘\n",
       "classic: 2/═══════════╩══╩═\n",
       "                      0  1 </pre>"
      ],
      "text/plain": [
       "           ┌───┐     ┌─┐   \n",
       "quantum_0: ┤ H ├──■──┤M├───\n",
       "           ├───┤┌─┴─┐└╥┘┌─┐\n",
       "quantum_1: ┤ X ├┤ X ├─╫─┤M├\n",
       "           └───┘└───┘ ║ └╥┘\n",
       "classic: 2/═══════════╩══╩═\n",
       "                      0  1 "
      ]
     },
     "metadata": {},
     "output_type": "display_data"
    },
    {
     "name": "stdout",
     "output_type": "stream",
     "text": [
      "{'01': 509, '10': 515}\n"
     ]
    },
    {
     "data": {
      "image/png": "[encoded data removed]",
      "text/plain": [
       "<Figure size 504x360 with 1 Axes>"
      ]
     },
     "metadata": {},
     "output_type": "display_data"
    }
   ],
   "source": [
    "quantum_register = QuantumRegister(2, \"quantum\")\n",
    "classic_register = ClassicalRegister(2, \"classic\")\n",
    "qc = QuantumCircuit(quantum_register, classic_register)\n",
    "qc.x(1)\n",
    "qc.h(0)\n",
    "qc.cx(0, 1)\n",
    "qc.measure(quantum_register, classic_register)\n",
    "display(qc.draw())\n",
    "execute_circuit(qc)"
   ]
  },
  {
   "cell_type": "markdown",
   "metadata": {},
   "source": [
    "Switch measurement"
   ]
  },
  {
   "cell_type": "code",
   "execution_count": 42,
   "metadata": {},
   "outputs": [
    {
     "data": {
      "text/html": [
       "<pre style=\"word-wrap: normal;white-space: pre;background: #fff0;line-height: 1.1;font-family: &quot;Courier New&quot;,Courier,monospace\">           ┌───┐     ┌─┐   \n",
       "quantum_0: ┤ H ├──■──┤M├───\n",
       "           └───┘┌─┴─┐└╥┘┌─┐\n",
       "quantum_1: ─────┤ X ├─╫─┤M├\n",
       "                └───┘ ║ └╥┘\n",
       "classic: 2/═══════════╩══╩═\n",
       "                      1  0 </pre>"
      ],
      "text/plain": [
       "           ┌───┐     ┌─┐   \n",
       "quantum_0: ┤ H ├──■──┤M├───\n",
       "           └───┘┌─┴─┐└╥┘┌─┐\n",
       "quantum_1: ─────┤ X ├─╫─┤M├\n",
       "                └───┘ ║ └╥┘\n",
       "classic: 2/═══════════╩══╩═\n",
       "                      1  0 "
      ]
     },
     "metadata": {},
     "output_type": "display_data"
    },
    {
     "name": "stdout",
     "output_type": "stream",
     "text": [
      "{'00': 533, '11': 491}\n"
     ]
    },
    {
     "data": {
      "image/png": "[encoded data removed]",
      "text/plain": [
       "<Figure size 504x360 with 1 Axes>"
      ]
     },
     "metadata": {},
     "output_type": "display_data"
    }
   ],
   "source": [
    "quantum_register = QuantumRegister(2, \"quantum\")\n",
    "classic_register = ClassicalRegister(2, \"classic\")\n",
    "qc = QuantumCircuit(quantum_register, classic_register)\n",
    "qc.h(0)\n",
    "qc.cx(0, 1)\n",
    "qc.measure(quantum_register[0], classic_register[1])\n",
    "qc.measure(quantum_register[1], classic_register[0])\n",
    "display(qc.draw())\n",
    "execute_circuit(qc)"
   ]
  },
  {
   "cell_type": "markdown",
   "metadata": {},
   "source": [
    "Other circuit - second Hadamard"
   ]
  },
  {
   "cell_type": "code",
   "execution_count": 45,
   "metadata": {},
   "outputs": [
    {
     "data": {
      "text/html": [
       "<pre style=\"word-wrap: normal;white-space: pre;background: #fff0;line-height: 1.1;font-family: &quot;Courier New&quot;,Courier,monospace\">           ┌───┐     ┌─┐   \n",
       "quantum_0: ┤ H ├──■──┤M├───\n",
       "           ├───┤┌─┴─┐└╥┘┌─┐\n",
       "quantum_1: ┤ H ├┤ X ├─╫─┤M├\n",
       "           └───┘└───┘ ║ └╥┘\n",
       "classic: 2/═══════════╩══╩═\n",
       "                      1  0 </pre>"
      ],
      "text/plain": [
       "           ┌───┐     ┌─┐   \n",
       "quantum_0: ┤ H ├──■──┤M├───\n",
       "           ├───┤┌─┴─┐└╥┘┌─┐\n",
       "quantum_1: ┤ H ├┤ X ├─╫─┤M├\n",
       "           └───┘└───┘ ║ └╥┘\n",
       "classic: 2/═══════════╩══╩═\n",
       "                      1  0 "
      ]
     },
     "metadata": {},
     "output_type": "display_data"
    },
    {
     "name": "stdout",
     "output_type": "stream",
     "text": [
      "{'00': 281, '01': 259, '10': 234, '11': 250}\n"
     ]
    },
    {
     "data": {
      "image/png": "[encoded data removed]",
      "text/plain": [
       "<Figure size 504x360 with 1 Axes>"
      ]
     },
     "metadata": {},
     "output_type": "display_data"
    }
   ],
   "source": [
    "quantum_register = QuantumRegister(2, \"quantum\")\n",
    "classic_register = ClassicalRegister(2, \"classic\")\n",
    "qc = QuantumCircuit(quantum_register, classic_register)\n",
    "qc.h(0)\n",
    "qc.h(1)\n",
    "qc.cx(0, 1)\n",
    "qc.measure(quantum_register[0], classic_register[1])\n",
    "qc.measure(quantum_register[1], classic_register[0])\n",
    "display(qc.draw())\n",
    "execute_circuit(qc)"
   ]
  },
  {
   "cell_type": "code",
   "execution_count": null,
   "metadata": {},
   "outputs": [],
   "source": []
  }
 ],
 "metadata": {
  "kernelspec": {
   "display_name": "Python 3",
   "language": "python",
   "name": "python3"
  },
  "language_info": {
   "codemirror_mode": {
    "name": "ipython",
    "version": 3
   },
   "file_extension": ".py",
   "mimetype": "text/x-python",
   "name": "python",
   "nbconvert_exporter": "python",
   "pygments_lexer": "ipython3",
   "version": "3.8.2"
  }
 },
 "nbformat": 4,
 "nbformat_minor": 1
}