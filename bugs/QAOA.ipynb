{
 "cells": [
  {
   "cell_type": "code",
   "execution_count": 2,
   "metadata": {},
   "outputs": [],
   "source": [
    "from qiskit.optimization import QuadraticProgram\n",
    "def create_qubo_linear(num_variables):\n",
    "    qubo = QuadraticProgram()\n",
    "    for index in range(num_variables):\n",
    "        qubo.binary_var('x' + str(index + 1))\n",
    "    qubo.minimize(linear=[1] * num_variables,\n",
    "                  quadratic={})\n",
    "    return qubo"
   ]
  },
  {
   "cell_type": "code",
   "execution_count": 3,
   "metadata": {
    "pycharm": {
     "name": "#%%\n"
    }
   },
   "outputs": [],
   "source": [
    "from qiskit.aqua import QuantumInstance\n",
    "from qiskit.aqua import aqua_globals\n",
    "from qiskit.optimization.algorithms import MinimumEigenOptimizer\n",
    "from qiskit.aqua.algorithms import QAOA\n",
    "\n",
    "SEED = 10598\n",
    "\n",
    "\n",
    "def solve_qubo(qubo, device, optimiser, parameter_p):\n",
    "    aqua_globals.random_seed = SEED\n",
    "    quantum_instance = QuantumInstance(device, seed_simulator=SEED, seed_transpiler=SEED, shots=1024)\n",
    "    qaoa_mes = QAOA(quantum_instance=quantum_instance, include_custom=True, optimizer=optimiser,\n",
    "                    p=parameter_p)\n",
    "    qaoa = MinimumEigenOptimizer(qaoa_mes)\n",
    "    qaoa_result = qaoa.solve(qubo)\n",
    "    return qaoa_result"
   ]
  },
  {
   "cell_type": "code",
   "execution_count": 4,
   "metadata": {
    "pycharm": {
     "name": "#%%\n"
    }
   },
   "outputs": [],
   "source": [
    "from qiskit.aqua import aqua_globals\n",
    "from qiskit.aqua.components.optimizers import SLSQP\n",
    "from qiskit.providers.aer import QasmSimulator\n",
    "from qiskit.providers.aer.noise import NoiseModel\n",
    "\n",
    "def test_given_qubo_linear_then_qaoa_correct_result():\n",
    "    # Arrange\n",
    "    nbr_variables = 20\n",
    "    qubo = create_qubo_linear(nbr_variables)\n",
    "    noise_model = NoiseModel()\n",
    "    ##device = QasmSimulator(method='matrix_product_state')\n",
    "    ##device = QasmSimulator(method='density_matrix') # insufficient memory\n",
    "    device = QasmSimulator(method='automatic', noise_model=noise_model)\n",
    "    #device  = Aer.get_backend('qasm_simulator')\n",
    "    # Act\n",
    "    result = solve_qubo(qubo, device, SLSQP(), 5)\n",
    "    # Assert\n",
    "    print(noise_model.is_ideal())\n",
    "    print(result.fval)\n",
    "    print(result.x)\n",
    "    assert noise_model.is_ideal() == True\n",
    "    assert result.fval == 0.0\n",
    "    assert all([a == b for a, b in zip(result.x, [0] * nbr_variables)])"
   ]
  },
  {
   "cell_type": "code",
   "execution_count": 5,
   "metadata": {
    "pycharm": {
     "is_executing": true,
     "name": "#%%\n"
    }
   },
   "outputs": [
    {
     "name": "stdout",
     "output_type": "stream",
     "text": [
      "True\n",
      "2.0\n",
      "[0. 0. 0. 0. 0. 0. 0. 1. 0. 1. 0. 0. 0. 0. 0. 0. 0. 0. 0. 0.]\n"
     ]
    },
    {
     "ename": "AssertionError",
     "evalue": "",
     "output_type": "error",
     "traceback": [
      "\u001B[0;31m---------------------------------------------------------------------------\u001B[0m",
      "\u001B[0;31mAssertionError\u001B[0m                            Traceback (most recent call last)",
      "\u001B[0;32m<ipython-input-5-148b7f22ce41>\u001B[0m in \u001B[0;36m<module>\u001B[0;34m\u001B[0m\n\u001B[0;32m----> 1\u001B[0;31m \u001B[0mtest_given_qubo_linear_then_qaoa_correct_result\u001B[0m\u001B[0;34m(\u001B[0m\u001B[0;34m)\u001B[0m\u001B[0;34m\u001B[0m\u001B[0;34m\u001B[0m\u001B[0m\n\u001B[0m",
      "\u001B[0;32m<ipython-input-4-d9ba0bd35f27>\u001B[0m in \u001B[0;36mtest_given_qubo_linear_then_qaoa_correct_result\u001B[0;34m()\u001B[0m\n\u001B[1;32m     20\u001B[0m     \u001B[0mprint\u001B[0m\u001B[0;34m(\u001B[0m\u001B[0mresult\u001B[0m\u001B[0;34m.\u001B[0m\u001B[0mx\u001B[0m\u001B[0;34m)\u001B[0m\u001B[0;34m\u001B[0m\u001B[0;34m\u001B[0m\u001B[0m\n\u001B[1;32m     21\u001B[0m     \u001B[0;32massert\u001B[0m \u001B[0mnoise_model\u001B[0m\u001B[0;34m.\u001B[0m\u001B[0mis_ideal\u001B[0m\u001B[0;34m(\u001B[0m\u001B[0;34m)\u001B[0m \u001B[0;34m==\u001B[0m \u001B[0;32mTrue\u001B[0m\u001B[0;34m\u001B[0m\u001B[0;34m\u001B[0m\u001B[0m\n\u001B[0;32m---> 22\u001B[0;31m     \u001B[0;32massert\u001B[0m \u001B[0mresult\u001B[0m\u001B[0;34m.\u001B[0m\u001B[0mfval\u001B[0m \u001B[0;34m==\u001B[0m \u001B[0;36m0.0\u001B[0m\u001B[0;34m\u001B[0m\u001B[0;34m\u001B[0m\u001B[0m\n\u001B[0m\u001B[1;32m     23\u001B[0m     \u001B[0;32massert\u001B[0m \u001B[0mall\u001B[0m\u001B[0;34m(\u001B[0m\u001B[0;34m[\u001B[0m\u001B[0ma\u001B[0m \u001B[0;34m==\u001B[0m \u001B[0mb\u001B[0m \u001B[0;32mfor\u001B[0m \u001B[0ma\u001B[0m\u001B[0;34m,\u001B[0m \u001B[0mb\u001B[0m \u001B[0;32min\u001B[0m \u001B[0mzip\u001B[0m\u001B[0;34m(\u001B[0m\u001B[0mresult\u001B[0m\u001B[0;34m.\u001B[0m\u001B[0mx\u001B[0m\u001B[0;34m,\u001B[0m \u001B[0;34m[\u001B[0m\u001B[0;36m0\u001B[0m\u001B[0;34m]\u001B[0m \u001B[0;34m*\u001B[0m \u001B[0mnbr_variables\u001B[0m\u001B[0;34m)\u001B[0m\u001B[0;34m]\u001B[0m\u001B[0;34m)\u001B[0m\u001B[0;34m\u001B[0m\u001B[0;34m\u001B[0m\u001B[0m\n",
      "\u001B[0;31mAssertionError\u001B[0m: "
     ]
    }
   ],
   "source": [
    "test_given_qubo_linear_then_qaoa_correct_result()"
   ]
  },
  {
   "cell_type": "code",
   "execution_count": null,
   "metadata": {},
   "outputs": [],
   "source": [
    "import qiskit\n",
    "qiskit.__qiskit_version__"
   ]
  },
  {
   "cell_type": "code",
   "execution_count": null,
   "metadata": {},
   "outputs": [],
   "source": [
    "import sys\n",
    "print(sys.version)"
   ]
  },
  {
   "cell_type": "code",
   "execution_count": null,
   "metadata": {
    "pycharm": {
     "name": "#%%\n"
    }
   },
   "outputs": [],
   "source": [
    "import platform\n",
    "uname = platform.uname()\n",
    "print(f\"System: {uname.system}\")\n",
    "print(f\"Node Name: {uname.node}\")\n",
    "print(f\"Release: {uname.release}\")\n",
    "print(f\"Version: {uname.version}\")\n",
    "print(f\"Machine: {uname.machine}\")\n",
    "print(f\"Processor: {uname.processor}\")\n"
   ]
  },
  {
   "cell_type": "code",
   "execution_count": null,
   "metadata": {},
   "outputs": [],
   "source": []
  }
 ],
 "metadata": {
  "kernelspec": {
   "display_name": "Python 3",
   "language": "python",
   "name": "python3"
  },
  "language_info": {
   "codemirror_mode": {
    "name": "ipython",
    "version": 3
   },
   "file_extension": ".py",
   "mimetype": "text/x-python",
   "name": "python",
   "nbconvert_exporter": "python",
   "pygments_lexer": "ipython3",
   "version": "3.8.2"
  }
 },
 "nbformat": 4,
 "nbformat_minor": 1
}