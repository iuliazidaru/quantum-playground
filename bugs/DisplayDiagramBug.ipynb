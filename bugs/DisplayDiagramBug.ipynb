{
 "cells": [
  {
   "cell_type": "code",
   "execution_count": 20,
   "metadata": {},
   "outputs": [
    {
     "data": {
      "text/plain": [
       "{'qiskit-terra': '0.16.1',\n",
       " 'qiskit-aer': '0.7.2',\n",
       " 'qiskit-ignis': '0.5.1',\n",
       " 'qiskit-ibmq-provider': '0.11.1',\n",
       " 'qiskit-aqua': '0.8.1',\n",
       " 'qiskit': '0.23.2'}"
      ]
     },
     "execution_count": 20,
     "metadata": {},
     "output_type": "execute_result"
    }
   ],
   "source": [
    "import qiskit\n",
    "qiskit.__qiskit_version__"
   ]
  },
  {
   "cell_type": "code",
   "execution_count": 21,
   "metadata": {},
   "outputs": [
    {
     "name": "stdout",
     "output_type": "stream",
     "text": [
      "3.7.9 (default, Aug 31 2020, 07:22:35) \n",
      "[Clang 10.0.0 ]\n"
     ]
    }
   ],
   "source": [
    "import sys\n",
    "print(sys.version)"
   ]
  },
  {
   "cell_type": "code",
   "execution_count": 22,
   "metadata": {},
   "outputs": [
    {
     "name": "stdout",
     "output_type": "stream",
     "text": [
      "System: Darwin\n",
      "Node Name: MacBook-Air-Iulia.local\n",
      "Release: 19.5.0\n",
      "Version: Darwin Kernel Version 19.5.0: Tue May 26 20:41:44 PDT 2020; root:xnu-6153.121.2~2/RELEASE_X86_64\n",
      "Machine: x86_64\n",
      "Processor: i386\n"
     ]
    }
   ],
   "source": [
    "import platform\n",
    "uname = platform.uname()\n",
    "print(f\"System: {uname.system}\")\n",
    "print(f\"Node Name: {uname.node}\")\n",
    "print(f\"Release: {uname.release}\")\n",
    "print(f\"Version: {uname.version}\")\n",
    "print(f\"Machine: {uname.machine}\")\n",
    "print(f\"Processor: {uname.processor}\")"
   ]
  },
  {
   "cell_type": "markdown",
   "metadata": {},
   "source": [
    "# OR Gate"
   ]
  },
  {
   "cell_type": "code",
   "execution_count": 23,
   "metadata": {},
   "outputs": [],
   "source": [
    "# Importing standard Qiskit libraries and configuring account\n",
    "from qiskit import QuantumRegister, ClassicalRegister, QuantumCircuit\n"
   ]
  },
  {
   "cell_type": "code",
   "execution_count": 24,
   "metadata": {},
   "outputs": [
    {
     "data": {
      "text/html": [
       "<pre style=\"word-wrap: normal;white-space: pre;background: #fff0;line-height: 1.1;font-family: &quot;Courier New&quot;,Courier,monospace\">                        \n",
       "q6_0: ───────■────■─────\n",
       "             │    │     \n",
       "q6_1: ──■────┼────■─────\n",
       "      ┌─┴─┐┌─┴─┐┌─┴─┐┌─┐\n",
       "q6_2: ┤ X ├┤ X ├┤ X ├┤M├\n",
       "      └───┘└───┘└───┘└╥┘\n",
       "c6: 1/════════════════╩═\n",
       "                      0 </pre>"
      ],
      "text/plain": [
       "                        \n",
       "q6_0: ───────■────■─────\n",
       "             │    │     \n",
       "q6_1: ──■────┼────■─────\n",
       "      ┌─┴─┐┌─┴─┐┌─┴─┐┌─┐\n",
       "q6_2: ┤ X ├┤ X ├┤ X ├┤M├\n",
       "      └───┘└───┘└───┘└╥┘\n",
       "c6: 1/════════════════╩═\n",
       "                      0 "
      ]
     },
     "execution_count": 24,
     "metadata": {},
     "output_type": "execute_result"
    }
   ],
   "source": [
    "q = QuantumRegister(3)\n",
    "c = ClassicalRegister(1)\n",
    "qc = QuantumCircuit(q,c)\n",
    "\n",
    "qc.cx(q[1], q[2])\n",
    "qc.cx(q[0], q[2])\n",
    "qc.ccx(q[0], q[1], q[2])\n",
    "qc.measure(q[2], c[0])\n",
    "qc.draw()"
   ]
  },
  {
   "cell_type": "markdown",
   "metadata": {},
   "source": [
    "QuantumCirquit draw method doesn't work from a function"
   ]
  },
  {
   "cell_type": "code",
   "execution_count": 25,
   "metadata": {},
   "outputs": [],
   "source": [
    "def function_with_draw():\n",
    "    q = QuantumRegister(3)\n",
    "    c = ClassicalRegister(1)\n",
    "    qc = QuantumCircuit(q,c)\n",
    "\n",
    "    qc.cx(q[1], q[2])\n",
    "    qc.cx(q[0], q[2])\n",
    "    qc.ccx(q[0], q[1], q[2])\n",
    "    qc.measure(q[2], c[0])\n",
    "    qc.draw()\n",
    "    \n",
    "function_with_draw()"
   ]
  },
  {
   "cell_type": "markdown",
   "metadata": {},
   "source": [
    "Print works:"
   ]
  },
  {
   "cell_type": "code",
   "execution_count": 27,
   "metadata": {},
   "outputs": [
    {
     "name": "stdout",
     "output_type": "stream",
     "text": [
      "                        \n",
      "q9_0: ───────■────■─────\n",
      "             │    │     \n",
      "q9_1: ──■────┼────■─────\n",
      "      ┌─┴─┐┌─┴─┐┌─┴─┐┌─┐\n",
      "q9_2: ┤ X ├┤ X ├┤ X ├┤M├\n",
      "      └───┘└───┘└───┘└╥┘\n",
      "c9: 1/════════════════╩═\n",
      "                      0 \n"
     ]
    }
   ],
   "source": [
    "def function_with_print():\n",
    "    q = QuantumRegister(3)\n",
    "    c = ClassicalRegister(1)\n",
    "    qc = QuantumCircuit(q,c)\n",
    "\n",
    "    qc.cx(q[1], q[2])\n",
    "    qc.cx(q[0], q[2])\n",
    "    qc.ccx(q[0], q[1], q[2])\n",
    "    qc.measure(q[2], c[0])\n",
    "    print(qc)\n",
    "    \n",
    "function_with_print()"
   ]
  },
  {
   "cell_type": "code",
   "execution_count": null,
   "metadata": {},
   "outputs": [],
   "source": []
  }
 ],
 "metadata": {
  "kernelspec": {
   "display_name": "Python 3",
   "language": "python",
   "name": "python3"
  },
  "language_info": {
   "codemirror_mode": {
    "name": "ipython",
    "version": 3
   },
   "file_extension": ".py",
   "mimetype": "text/x-python",
   "name": "python",
   "nbconvert_exporter": "python",
   "pygments_lexer": "ipython3",
   "version": "3.7.9"
  }
 },
 "nbformat": 4,
 "nbformat_minor": 4
}
